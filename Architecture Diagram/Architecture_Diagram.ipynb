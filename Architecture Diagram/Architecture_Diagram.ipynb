{
  "nbformat": 4,
  "nbformat_minor": 0,
  "metadata": {
    "colab": {
      "provenance": []
    },
    "kernelspec": {
      "name": "python3",
      "display_name": "Python 3"
    },
    "language_info": {
      "name": "python"
    }
  },
  "cells": [
    {
      "cell_type": "code",
      "execution_count": 5,
      "metadata": {
        "id": "X69NplF6A0g7"
      },
      "outputs": [],
      "source": [
        "from diagrams import Diagram\n",
        "from diagrams import Cluster, Edge, Node\n",
        "from diagrams.onprem.client import Users\n",
        "from diagrams.onprem.container import Docker\n",
        "from diagrams.onprem.workflow import Airflow\n",
        "from diagrams.gcp.analytics import Composer\n",
        "from diagrams.onprem.client import Client\n",
        "from diagrams.gcp.database import SQL\n",
        "from diagrams.azure.web import AppServiceDomains\n",
        "from diagrams.azure.web import APIConnections\n",
        "\n",
        "with Diagram(\"Architecture Diagram\", show=False):\n",
        "    ingress = Users(\"Users\")\n",
        "    with Cluster(\"Application\"):\n",
        "      with Cluster(\"Streamlit cloud\"):\n",
        "        streamlit = AppServiceDomains(\"Streamlit Cloud \")\n",
        "      with Cluster(\"Google SQL\"):\n",
        "        db = SQL(\"SQL\")\n",
        "      with Cluster(\"Airflow Process\"):\n",
        "        airflow = Airflow(\"Airflow\")\n",
        "      with Cluster(\"OpenAI Services\"):\n",
        "        openai=APIConnections(\"OpenAI API\")\n",
        "  \n",
        "    \n",
        "    streamlit << Edge(label=\"Website\") << ingress\n",
        "    db << Edge(label=\"Write Processed Data\") << airflow\n",
        "    streamlit << Edge(label=\"Data Fetch\") << db\n",
        "    openai << Edge(label=\"API Calls\") << airflow\n",
        "    airflow << Edge(label=\"API Call Response\") << openai\n",
        "    openai << Edge(label=\"API Calls to ChatGPT\") << streamlit\n",
        "    streamlit << Edge(label=\"API Call Response\") << openai"
      ]
    }
  ]
}